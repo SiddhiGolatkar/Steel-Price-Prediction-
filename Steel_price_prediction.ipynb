{
  "nbformat": 4,
  "nbformat_minor": 0,
  "metadata": {
    "colab": {
      "provenance": []
    },
    "kernelspec": {
      "name": "python3",
      "display_name": "Python 3"
    },
    "language_info": {
      "name": "python"
    }
  },
  "cells": [
    {
      "cell_type": "code",
      "execution_count": 1,
      "metadata": {
        "id": "nR-iYkC2uc-X"
      },
      "outputs": [],
      "source": [
        "import pandas as pd\n",
        "import numpy as np\n",
        "import matplotlib.pyplot as plt\n"
      ]
    },
    {
      "cell_type": "code",
      "source": [
        "data = pd.read_csv(\"/content/drive/MyDrive/Kalpataru Group/Steel Price prediction/Stainless_Steel_data.csv\",\n",
        "                    names = ['Date', 'Price'], skiprows=[0,], parse_dates= True, index_col= 'Date')"
      ],
      "metadata": {
        "id": "I32n9M6fv4uX"
      },
      "execution_count": 2,
      "outputs": []
    },
    {
      "cell_type": "code",
      "source": [
        "data"
      ],
      "metadata": {
        "colab": {
          "base_uri": "https://localhost:8080/",
          "height": 455
        },
        "id": "kHk4BLMPv4qr",
        "outputId": "077a700f-f822-4169-f7ea-76d24382d045"
      },
      "execution_count": 3,
      "outputs": [
        {
          "output_type": "execute_result",
          "data": {
            "text/plain": [
              "              Price\n",
              "Date               \n",
              "2011-01-01  100.700\n",
              "2011-02-01  101.800\n",
              "2011-03-01  102.400\n",
              "2011-04-01  104.000\n",
              "2011-05-01  104.000\n",
              "...             ...\n",
              "2023-01-01  195.105\n",
              "2023-02-01  195.105\n",
              "2023-03-01  195.105\n",
              "2023-04-01  195.105\n",
              "2023-05-01  195.105\n",
              "\n",
              "[149 rows x 1 columns]"
            ],
            "text/html": [
              "\n",
              "  <div id=\"df-ab2ad93a-946e-4225-bde4-9347a56f8606\">\n",
              "    <div class=\"colab-df-container\">\n",
              "      <div>\n",
              "<style scoped>\n",
              "    .dataframe tbody tr th:only-of-type {\n",
              "        vertical-align: middle;\n",
              "    }\n",
              "\n",
              "    .dataframe tbody tr th {\n",
              "        vertical-align: top;\n",
              "    }\n",
              "\n",
              "    .dataframe thead th {\n",
              "        text-align: right;\n",
              "    }\n",
              "</style>\n",
              "<table border=\"1\" class=\"dataframe\">\n",
              "  <thead>\n",
              "    <tr style=\"text-align: right;\">\n",
              "      <th></th>\n",
              "      <th>Price</th>\n",
              "    </tr>\n",
              "    <tr>\n",
              "      <th>Date</th>\n",
              "      <th></th>\n",
              "    </tr>\n",
              "  </thead>\n",
              "  <tbody>\n",
              "    <tr>\n",
              "      <th>2011-01-01</th>\n",
              "      <td>100.700</td>\n",
              "    </tr>\n",
              "    <tr>\n",
              "      <th>2011-02-01</th>\n",
              "      <td>101.800</td>\n",
              "    </tr>\n",
              "    <tr>\n",
              "      <th>2011-03-01</th>\n",
              "      <td>102.400</td>\n",
              "    </tr>\n",
              "    <tr>\n",
              "      <th>2011-04-01</th>\n",
              "      <td>104.000</td>\n",
              "    </tr>\n",
              "    <tr>\n",
              "      <th>2011-05-01</th>\n",
              "      <td>104.000</td>\n",
              "    </tr>\n",
              "    <tr>\n",
              "      <th>...</th>\n",
              "      <td>...</td>\n",
              "    </tr>\n",
              "    <tr>\n",
              "      <th>2023-01-01</th>\n",
              "      <td>195.105</td>\n",
              "    </tr>\n",
              "    <tr>\n",
              "      <th>2023-02-01</th>\n",
              "      <td>195.105</td>\n",
              "    </tr>\n",
              "    <tr>\n",
              "      <th>2023-03-01</th>\n",
              "      <td>195.105</td>\n",
              "    </tr>\n",
              "    <tr>\n",
              "      <th>2023-04-01</th>\n",
              "      <td>195.105</td>\n",
              "    </tr>\n",
              "    <tr>\n",
              "      <th>2023-05-01</th>\n",
              "      <td>195.105</td>\n",
              "    </tr>\n",
              "  </tbody>\n",
              "</table>\n",
              "<p>149 rows × 1 columns</p>\n",
              "</div>\n",
              "      <button class=\"colab-df-convert\" onclick=\"convertToInteractive('df-ab2ad93a-946e-4225-bde4-9347a56f8606')\"\n",
              "              title=\"Convert this dataframe to an interactive table.\"\n",
              "              style=\"display:none;\">\n",
              "        \n",
              "  <svg xmlns=\"http://www.w3.org/2000/svg\" height=\"24px\"viewBox=\"0 0 24 24\"\n",
              "       width=\"24px\">\n",
              "    <path d=\"M0 0h24v24H0V0z\" fill=\"none\"/>\n",
              "    <path d=\"M18.56 5.44l.94 2.06.94-2.06 2.06-.94-2.06-.94-.94-2.06-.94 2.06-2.06.94zm-11 1L8.5 8.5l.94-2.06 2.06-.94-2.06-.94L8.5 2.5l-.94 2.06-2.06.94zm10 10l.94 2.06.94-2.06 2.06-.94-2.06-.94-.94-2.06-.94 2.06-2.06.94z\"/><path d=\"M17.41 7.96l-1.37-1.37c-.4-.4-.92-.59-1.43-.59-.52 0-1.04.2-1.43.59L10.3 9.45l-7.72 7.72c-.78.78-.78 2.05 0 2.83L4 21.41c.39.39.9.59 1.41.59.51 0 1.02-.2 1.41-.59l7.78-7.78 2.81-2.81c.8-.78.8-2.07 0-2.86zM5.41 20L4 18.59l7.72-7.72 1.47 1.35L5.41 20z\"/>\n",
              "  </svg>\n",
              "      </button>\n",
              "      \n",
              "  <style>\n",
              "    .colab-df-container {\n",
              "      display:flex;\n",
              "      flex-wrap:wrap;\n",
              "      gap: 12px;\n",
              "    }\n",
              "\n",
              "    .colab-df-convert {\n",
              "      background-color: #E8F0FE;\n",
              "      border: none;\n",
              "      border-radius: 50%;\n",
              "      cursor: pointer;\n",
              "      display: none;\n",
              "      fill: #1967D2;\n",
              "      height: 32px;\n",
              "      padding: 0 0 0 0;\n",
              "      width: 32px;\n",
              "    }\n",
              "\n",
              "    .colab-df-convert:hover {\n",
              "      background-color: #E2EBFA;\n",
              "      box-shadow: 0px 1px 2px rgba(60, 64, 67, 0.3), 0px 1px 3px 1px rgba(60, 64, 67, 0.15);\n",
              "      fill: #174EA6;\n",
              "    }\n",
              "\n",
              "    [theme=dark] .colab-df-convert {\n",
              "      background-color: #3B4455;\n",
              "      fill: #D2E3FC;\n",
              "    }\n",
              "\n",
              "    [theme=dark] .colab-df-convert:hover {\n",
              "      background-color: #434B5C;\n",
              "      box-shadow: 0px 1px 3px 1px rgba(0, 0, 0, 0.15);\n",
              "      filter: drop-shadow(0px 1px 2px rgba(0, 0, 0, 0.3));\n",
              "      fill: #FFFFFF;\n",
              "    }\n",
              "  </style>\n",
              "\n",
              "      <script>\n",
              "        const buttonEl =\n",
              "          document.querySelector('#df-ab2ad93a-946e-4225-bde4-9347a56f8606 button.colab-df-convert');\n",
              "        buttonEl.style.display =\n",
              "          google.colab.kernel.accessAllowed ? 'block' : 'none';\n",
              "\n",
              "        async function convertToInteractive(key) {\n",
              "          const element = document.querySelector('#df-ab2ad93a-946e-4225-bde4-9347a56f8606');\n",
              "          const dataTable =\n",
              "            await google.colab.kernel.invokeFunction('convertToInteractive',\n",
              "                                                     [key], {});\n",
              "          if (!dataTable) return;\n",
              "\n",
              "          const docLinkHtml = 'Like what you see? Visit the ' +\n",
              "            '<a target=\"_blank\" href=https://colab.research.google.com/notebooks/data_table.ipynb>data table notebook</a>'\n",
              "            + ' to learn more about interactive tables.';\n",
              "          element.innerHTML = '';\n",
              "          dataTable['output_type'] = 'display_data';\n",
              "          await google.colab.output.renderOutput(dataTable, element);\n",
              "          const docLink = document.createElement('div');\n",
              "          docLink.innerHTML = docLinkHtml;\n",
              "          element.appendChild(docLink);\n",
              "        }\n",
              "      </script>\n",
              "    </div>\n",
              "  </div>\n",
              "  "
            ]
          },
          "metadata": {},
          "execution_count": 3
        }
      ]
    },
    {
      "cell_type": "code",
      "source": [
        "plt.figure(figsize=(20,5))\n",
        "data.Price.plot()\n",
        "plt.title(\"Stainless Steel Price\", fontsize = 20)\n",
        "plt.show()"
      ],
      "metadata": {
        "colab": {
          "base_uri": "https://localhost:8080/",
          "height": 438
        },
        "id": "wBm5qvnUv4oR",
        "outputId": "53dab4a5-6d9c-48a6-bda8-d1391ba8c523"
      },
      "execution_count": 4,
      "outputs": [
        {
          "output_type": "display_data",
          "data": {
            "text/plain": [
              "<Figure size 2000x500 with 1 Axes>"
            ],
            "image/png": "[encoded data removed]"
          },
          "metadata": {}
        }
      ]
    },
    {
      "cell_type": "code",
      "source": [
        "data[-12:]"
      ],
      "metadata": {
        "colab": {
          "base_uri": "https://localhost:8080/",
          "height": 457
        },
        "id": "Jhj3lEnEv4gR",
        "outputId": "b945fb86-fceb-484d-c9db-3cf870a6b786"
      },
      "execution_count": 5,
      "outputs": [
        {
          "output_type": "execute_result",
          "data": {
            "text/plain": [
              "              Price\n",
              "Date               \n",
              "2022-06-01  170.290\n",
              "2022-07-01  170.290\n",
              "2022-08-01  209.582\n",
              "2022-09-01  203.832\n",
              "2022-10-01  195.142\n",
              "2022-11-01  195.142\n",
              "2022-12-01  195.105\n",
              "2023-01-01  195.105\n",
              "2023-02-01  195.105\n",
              "2023-03-01  195.105\n",
              "2023-04-01  195.105\n",
              "2023-05-01  195.105"
            ],
            "text/html": [
              "\n",
              "  <div id=\"df-f2e2b500-1954-4f24-8d93-00525b2cb765\">\n",
              "    <div class=\"colab-df-container\">\n",
              "      <div>\n",
              "<style scoped>\n",
              "    .dataframe tbody tr th:only-of-type {\n",
              "        vertical-align: middle;\n",
              "    }\n",
              "\n",
              "    .dataframe tbody tr th {\n",
              "        vertical-align: top;\n",
              "    }\n",
              "\n",
              "    .dataframe thead th {\n",
              "        text-align: right;\n",
              "    }\n",
              "</style>\n",
              "<table border=\"1\" class=\"dataframe\">\n",
              "  <thead>\n",
              "    <tr style=\"text-align: right;\">\n",
              "      <th></th>\n",
              "      <th>Price</th>\n",
              "    </tr>\n",
              "    <tr>\n",
              "      <th>Date</th>\n",
              "      <th></th>\n",
              "    </tr>\n",
              "  </thead>\n",
              "  <tbody>\n",
              "    <tr>\n",
              "      <th>2022-06-01</th>\n",
              "      <td>170.290</td>\n",
              "    </tr>\n",
              "    <tr>\n",
              "      <th>2022-07-01</th>\n",
              "      <td>170.290</td>\n",
              "    </tr>\n",
              "    <tr>\n",
              "      <th>2022-08-01</th>\n",
              "      <td>209.582</td>\n",
              "    </tr>\n",
              "    <tr>\n",
              "      <th>2022-09-01</th>\n",
              "      <td>203.832</td>\n",
              "    </tr>\n",
              "    <tr>\n",
              "      <th>2022-10-01</th>\n",
              "      <td>195.142</td>\n",
              "    </tr>\n",
              "    <tr>\n",
              "      <th>2022-11-01</th>\n",
              "      <td>195.142</td>\n",
              "    </tr>\n",
              "    <tr>\n",
              "      <th>2022-12-01</th>\n",
              "      <td>195.105</td>\n",
              "    </tr>\n",
              "    <tr>\n",
              "      <th>2023-01-01</th>\n",
              "      <td>195.105</td>\n",
              "    </tr>\n",
              "    <tr>\n",
              "      <th>2023-02-01</th>\n",
              "      <td>195.105</td>\n",
              "    </tr>\n",
              "    <tr>\n",
              "      <th>2023-03-01</th>\n",
              "      <td>195.105</td>\n",
              "    </tr>\n",
              "    <tr>\n",
              "      <th>2023-04-01</th>\n",
              "      <td>195.105</td>\n",
              "    </tr>\n",
              "    <tr>\n",
              "      <th>2023-05-01</th>\n",
              "      <td>195.105</td>\n",
              "    </tr>\n",
              "  </tbody>\n",
              "</table>\n",
              "</div>\n",
              "      <button class=\"colab-df-convert\" onclick=\"convertToInteractive('df-f2e2b500-1954-4f24-8d93-00525b2cb765')\"\n",
              "              title=\"Convert this dataframe to an interactive table.\"\n",
              "              style=\"display:none;\">\n",
              "        \n",
              "  <svg xmlns=\"http://www.w3.org/2000/svg\" height=\"24px\"viewBox=\"0 0 24 24\"\n",
              "       width=\"24px\">\n",
              "    <path d=\"M0 0h24v24H0V0z\" fill=\"none\"/>\n",
              "    <path d=\"M18.56 5.44l.94 2.06.94-2.06 2.06-.94-2.06-.94-.94-2.06-.94 2.06-2.06.94zm-11 1L8.5 8.5l.94-2.06 2.06-.94-2.06-.94L8.5 2.5l-.94 2.06-2.06.94zm10 10l.94 2.06.94-2.06 2.06-.94-2.06-.94-.94-2.06-.94 2.06-2.06.94z\"/><path d=\"M17.41 7.96l-1.37-1.37c-.4-.4-.92-.59-1.43-.59-.52 0-1.04.2-1.43.59L10.3 9.45l-7.72 7.72c-.78.78-.78 2.05 0 2.83L4 21.41c.39.39.9.59 1.41.59.51 0 1.02-.2 1.41-.59l7.78-7.78 2.81-2.81c.8-.78.8-2.07 0-2.86zM5.41 20L4 18.59l7.72-7.72 1.47 1.35L5.41 20z\"/>\n",
              "  </svg>\n",
              "      </button>\n",
              "      \n",
              "  <style>\n",
              "    .colab-df-container {\n",
              "      display:flex;\n",
              "      flex-wrap:wrap;\n",
              "      gap: 12px;\n",
              "    }\n",
              "\n",
              "    .colab-df-convert {\n",
              "      background-color: #E8F0FE;\n",
              "      border: none;\n",
              "      border-radius: 50%;\n",
              "      cursor: pointer;\n",
              "      display: none;\n",
              "      fill: #1967D2;\n",
              "      height: 32px;\n",
              "      padding: 0 0 0 0;\n",
              "      width: 32px;\n",
              "    }\n",
              "\n",
              "    .colab-df-convert:hover {\n",
              "      background-color: #E2EBFA;\n",
              "      box-shadow: 0px 1px 2px rgba(60, 64, 67, 0.3), 0px 1px 3px 1px rgba(60, 64, 67, 0.15);\n",
              "      fill: #174EA6;\n",
              "    }\n",
              "\n",
              "    [theme=dark] .colab-df-convert {\n",
              "      background-color: #3B4455;\n",
              "      fill: #D2E3FC;\n",
              "    }\n",
              "\n",
              "    [theme=dark] .colab-df-convert:hover {\n",
              "      background-color: #434B5C;\n",
              "      box-shadow: 0px 1px 3px 1px rgba(0, 0, 0, 0.15);\n",
              "      filter: drop-shadow(0px 1px 2px rgba(0, 0, 0, 0.3));\n",
              "      fill: #FFFFFF;\n",
              "    }\n",
              "  </style>\n",
              "\n",
              "      <script>\n",
              "        const buttonEl =\n",
              "          document.querySelector('#df-f2e2b500-1954-4f24-8d93-00525b2cb765 button.colab-df-convert');\n",
              "        buttonEl.style.display =\n",
              "          google.colab.kernel.accessAllowed ? 'block' : 'none';\n",
              "\n",
              "        async function convertToInteractive(key) {\n",
              "          const element = document.querySelector('#df-f2e2b500-1954-4f24-8d93-00525b2cb765');\n",
              "          const dataTable =\n",
              "            await google.colab.kernel.invokeFunction('convertToInteractive',\n",
              "                                                     [key], {});\n",
              "          if (!dataTable) return;\n",
              "\n",
              "          const docLinkHtml = 'Like what you see? Visit the ' +\n",
              "            '<a target=\"_blank\" href=https://colab.research.google.com/notebooks/data_table.ipynb>data table notebook</a>'\n",
              "            + ' to learn more about interactive tables.';\n",
              "          element.innerHTML = '';\n",
              "          dataTable['output_type'] = 'display_data';\n",
              "          await google.colab.output.renderOutput(dataTable, element);\n",
              "          const docLink = document.createElement('div');\n",
              "          docLink.innerHTML = docLinkHtml;\n",
              "          element.appendChild(docLink);\n",
              "        }\n",
              "      </script>\n",
              "    </div>\n",
              "  </div>\n",
              "  "
            ]
          },
          "metadata": {},
          "execution_count": 5
        }
      ]
    },
    {
      "cell_type": "code",
      "source": [
        "last_year = data[-12:]\n",
        "plt.plot(last_year)\n",
        "plt.title(\"2022-2023 Stainless Steel Price\")\n",
        "plt.show()"
      ],
      "metadata": {
        "colab": {
          "base_uri": "https://localhost:8080/",
          "height": 452
        },
        "id": "Ta8EODonv4bT",
        "outputId": "9d39b2b2-8311-43aa-fc49-cd13d4fee206"
      },
      "execution_count": 6,
      "outputs": [
        {
          "output_type": "display_data",
          "data": {
            "text/plain": [
              "<Figure size 640x480 with 1 Axes>"
            ],
            "image/png": "[encoded data removed]"
          },
          "metadata": {}
        }
      ]
    },
    {
      "cell_type": "code",
      "source": [
        "from statsmodels.tsa.seasonal import seasonal_decompose"
      ],
      "metadata": {
        "id": "WxgYsnthxyty"
      },
      "execution_count": 7,
      "outputs": []
    },
    {
      "cell_type": "code",
      "source": [
        "results = seasonal_decompose(data['Price'])\n",
        "results.plot();"
      ],
      "metadata": {
        "colab": {
          "base_uri": "https://localhost:8080/",
          "height": 487
        },
        "id": "_Dsekqeqxyp7",
        "outputId": "bb272a58-aa5a-4d9d-bb44-dcd29e8a1168"
      },
      "execution_count": 8,
      "outputs": [
        {
          "output_type": "display_data",
          "data": {
            "text/plain": [
              "<Figure size 640x480 with 4 Axes>"
            ],
            "image/png": "[encoded data removed]"
          },
          "metadata": {}
        }
      ]
    },
    {
      "cell_type": "code",
      "source": [
        "len(data)"
      ],
      "metadata": {
        "colab": {
          "base_uri": "https://localhost:8080/"
        },
        "id": "7dN3wWd4xymG",
        "outputId": "3ba82617-35ec-4f3e-c2eb-85b5ccea46e3"
      },
      "execution_count": 9,
      "outputs": [
        {
          "output_type": "execute_result",
          "data": {
            "text/plain": [
              "149"
            ]
          },
          "metadata": {},
          "execution_count": 9
        }
      ]
    },
    {
      "cell_type": "code",
      "source": [
        "train = data.iloc[:125]\n",
        "test = data.iloc[125:]"
      ],
      "metadata": {
        "id": "sPxGdwqzxyiN"
      },
      "execution_count": 10,
      "outputs": []
    },
    {
      "cell_type": "code",
      "source": [
        "from sklearn.preprocessing import MinMaxScaler\n",
        "scaler = MinMaxScaler()"
      ],
      "metadata": {
        "id": "UCZkh2nhxycN"
      },
      "execution_count": 11,
      "outputs": []
    },
    {
      "cell_type": "code",
      "source": [
        "scaler.fit(train)\n",
        "scaled_train = scaler.transform(train)\n",
        "scaled_test = scaler.transform(test)"
      ],
      "metadata": {
        "id": "5vyggskwxyZG"
      },
      "execution_count": 12,
      "outputs": []
    },
    {
      "cell_type": "code",
      "source": [
        "scaled_train[:5]"
      ],
      "metadata": {
        "colab": {
          "base_uri": "https://localhost:8080/"
        },
        "id": "TjXbAoYXxyU3",
        "outputId": "0237f786-44b1-457e-c5ff-1ace4f3feb3e"
      },
      "execution_count": 13,
      "outputs": [
        {
          "output_type": "execute_result",
          "data": {
            "text/plain": [
              "array([[0.37061404],\n",
              "       [0.39473684],\n",
              "       [0.40789474],\n",
              "       [0.44298246],\n",
              "       [0.44298246]])"
            ]
          },
          "metadata": {},
          "execution_count": 13
        }
      ]
    },
    {
      "cell_type": "code",
      "source": [
        "from keras.preprocessing.sequence import TimeseriesGenerator"
      ],
      "metadata": {
        "id": "ulxZZAtKxyPc"
      },
      "execution_count": 14,
      "outputs": []
    },
    {
      "cell_type": "code",
      "source": [
        "# define generator\n",
        "n_input = 3\n",
        "n_features = 1\n",
        "generator = TimeseriesGenerator(scaled_train, scaled_train, length=n_input, batch_size=1)\n"
      ],
      "metadata": {
        "id": "pY9nMPw_xyLl"
      },
      "execution_count": 15,
      "outputs": []
    },
    {
      "cell_type": "code",
      "source": [
        "X, y = generator[0]\n",
        "print(f'Given the array: \\n{X.flatten()}')\n",
        "print(f'predict this y: \\n{y}')"
      ],
      "metadata": {
        "colab": {
          "base_uri": "https://localhost:8080/"
        },
        "id": "vsTPHWhrv4VN",
        "outputId": "285cb15c-033c-496c-af5d-efc6fdaf8f01"
      },
      "execution_count": 16,
      "outputs": [
        {
          "output_type": "stream",
          "name": "stdout",
          "text": [
            "Given the array: \n",
            "[0.37061404 0.39473684 0.40789474]\n",
            "predict this y: \n",
            "[[0.44298246]]\n"
          ]
        }
      ]
    },
    {
      "cell_type": "code",
      "source": [
        "X.shape"
      ],
      "metadata": {
        "colab": {
          "base_uri": "https://localhost:8080/"
        },
        "id": "7U9Wvxaxv4Pn",
        "outputId": "2bff10cc-3c78-42c9-c4e8-d070e601a969"
      },
      "execution_count": 17,
      "outputs": [
        {
          "output_type": "execute_result",
          "data": {
            "text/plain": [
              "(1, 3, 1)"
            ]
          },
          "metadata": {},
          "execution_count": 17
        }
      ]
    },
    {
      "cell_type": "code",
      "source": [
        "n_input = 24\n",
        "generator = TimeseriesGenerator(scaled_train, scaled_train, length=n_input, batch_size=1)"
      ],
      "metadata": {
        "id": "s5Lo7SKCv4Je"
      },
      "execution_count": 18,
      "outputs": []
    },
    {
      "cell_type": "code",
      "source": [
        "from keras.models import Sequential\n",
        "from keras.layers import Dense\n",
        "from keras.layers import LSTM"
      ],
      "metadata": {
        "id": "ZUpHX10i6B9Q"
      },
      "execution_count": 19,
      "outputs": []
    },
    {
      "cell_type": "code",
      "source": [
        "# define model\n",
        "model = Sequential()\n",
        "model.add(LSTM(100, activation='relu', input_shape=(n_input, n_features)))\n",
        "model.add(Dense(1))\n",
        "model.compile(optimizer='adam', loss = 'mse')"
      ],
      "metadata": {
        "id": "jzlWUCOk6B6A"
      },
      "execution_count": 20,
      "outputs": []
    },
    {
      "cell_type": "code",
      "source": [
        "model.summary()"
      ],
      "metadata": {
        "colab": {
          "base_uri": "https://localhost:8080/"
        },
        "id": "dKsxhGK16B4D",
        "outputId": "d25b82f5-ea0e-428f-b12d-61c1e302d402"
      },
      "execution_count": 21,
      "outputs": [
        {
          "output_type": "stream",
          "name": "stdout",
          "text": [
            "Model: \"sequential\"\n",
            "_________________________________________________________________\n",
            " Layer (type)                Output Shape              Param #   \n",
            "=================================================================\n",
            " lstm (LSTM)                 (None, 100)               40800     \n",
            "                                                                 \n",
            " dense (Dense)               (None, 1)                 101       \n",
            "                                                                 \n",
            "=================================================================\n",
            "Total params: 40,901\n",
            "Trainable params: 40,901\n",
            "Non-trainable params: 0\n",
            "_________________________________________________________________\n"
          ]
        }
      ]
    },
    {
      "cell_type": "code",
      "source": [
        "model.fit(generator, epochs= 50)"
      ],
      "metadata": {
        "colab": {
          "base_uri": "https://localhost:8080/"
        },
        "id": "EcoGbvap6Bxm",
        "outputId": "15c68d29-520c-4276-b934-3881cbc6d784"
      },
      "execution_count": 22,
      "outputs": [
        {
          "output_type": "stream",
          "name": "stdout",
          "text": [
            "Epoch 1/50\n",
            "101/101 [==============================] - 7s 32ms/step - loss: 0.0396\n",
            "Epoch 2/50\n",
            "101/101 [==============================] - 3s 24ms/step - loss: 0.0153\n",
            "Epoch 3/50\n",
            "101/101 [==============================] - 2s 21ms/step - loss: 0.0103\n",
            "Epoch 4/50\n",
            "101/101 [==============================] - 2s 23ms/step - loss: 0.0091\n",
            "Epoch 5/50\n",
            "101/101 [==============================] - 2s 21ms/step - loss: 0.0072\n",
            "Epoch 6/50\n",
            "101/101 [==============================] - 3s 27ms/step - loss: 0.0062\n",
            "Epoch 7/50\n",
            "101/101 [==============================] - 2s 24ms/step - loss: 0.0060\n",
            "Epoch 8/50\n",
            "101/101 [==============================] - 2s 21ms/step - loss: 0.0041\n",
            "Epoch 9/50\n",
            "101/101 [==============================] - 2s 24ms/step - loss: 0.0045\n",
            "Epoch 10/50\n",
            "101/101 [==============================] - 2s 24ms/step - loss: 0.0052\n",
            "Epoch 11/50\n",
            "101/101 [==============================] - 2s 24ms/step - loss: 0.0043\n",
            "Epoch 12/50\n",
            "101/101 [==============================] - 2s 19ms/step - loss: 0.0039\n",
            "Epoch 13/50\n",
            "101/101 [==============================] - 1s 12ms/step - loss: 0.0035\n",
            "Epoch 14/50\n",
            "101/101 [==============================] - 1s 12ms/step - loss: 0.0041\n",
            "Epoch 15/50\n",
            "101/101 [==============================] - 1s 12ms/step - loss: 0.0041\n",
            "Epoch 16/50\n",
            "101/101 [==============================] - 1s 11ms/step - loss: 0.0044\n",
            "Epoch 17/50\n",
            "101/101 [==============================] - 1s 11ms/step - loss: 0.0039\n",
            "Epoch 18/50\n",
            "101/101 [==============================] - 1s 12ms/step - loss: 0.0035\n",
            "Epoch 19/50\n",
            "101/101 [==============================] - 1s 11ms/step - loss: 0.0030\n",
            "Epoch 20/50\n",
            "101/101 [==============================] - 1s 12ms/step - loss: 0.0026\n",
            "Epoch 21/50\n",
            "101/101 [==============================] - 2s 19ms/step - loss: 0.0031\n",
            "Epoch 22/50\n",
            "101/101 [==============================] - 1s 11ms/step - loss: 0.0027\n",
            "Epoch 23/50\n",
            "101/101 [==============================] - 1s 11ms/step - loss: 0.0024\n",
            "Epoch 24/50\n",
            "101/101 [==============================] - 1s 11ms/step - loss: 0.0023\n",
            "Epoch 25/50\n",
            "101/101 [==============================] - 1s 11ms/step - loss: 0.0021\n",
            "Epoch 26/50\n",
            "101/101 [==============================] - 1s 11ms/step - loss: 0.0026\n",
            "Epoch 27/50\n",
            "101/101 [==============================] - 1s 13ms/step - loss: 0.0024\n",
            "Epoch 28/50\n",
            "101/101 [==============================] - 1s 14ms/step - loss: 0.0020\n",
            "Epoch 29/50\n",
            "101/101 [==============================] - 2s 18ms/step - loss: 0.0020\n",
            "Epoch 30/50\n",
            "101/101 [==============================] - 1s 12ms/step - loss: 0.0022\n",
            "Epoch 31/50\n",
            "101/101 [==============================] - 1s 12ms/step - loss: 0.0018\n",
            "Epoch 32/50\n",
            "101/101 [==============================] - 1s 12ms/step - loss: 0.0020\n",
            "Epoch 33/50\n",
            "101/101 [==============================] - 1s 11ms/step - loss: 0.0018\n",
            "Epoch 34/50\n",
            "101/101 [==============================] - 1s 11ms/step - loss: 0.0021\n",
            "Epoch 35/50\n",
            "101/101 [==============================] - 1s 12ms/step - loss: 0.0027\n",
            "Epoch 36/50\n",
            "101/101 [==============================] - 1s 13ms/step - loss: 0.0019\n",
            "Epoch 37/50\n",
            "101/101 [==============================] - 2s 18ms/step - loss: 0.0022\n",
            "Epoch 38/50\n",
            "101/101 [==============================] - 1s 11ms/step - loss: 0.0020\n",
            "Epoch 39/50\n",
            "101/101 [==============================] - 1s 12ms/step - loss: 0.0020\n",
            "Epoch 40/50\n",
            "101/101 [==============================] - 1s 15ms/step - loss: 0.0021\n",
            "Epoch 41/50\n",
            "101/101 [==============================] - 2s 17ms/step - loss: 0.0019\n",
            "Epoch 42/50\n",
            "101/101 [==============================] - 1s 12ms/step - loss: 0.0018\n",
            "Epoch 43/50\n",
            "101/101 [==============================] - 2s 15ms/step - loss: 0.0021\n",
            "Epoch 44/50\n",
            "101/101 [==============================] - 2s 18ms/step - loss: 0.0018\n",
            "Epoch 45/50\n",
            "101/101 [==============================] - 1s 13ms/step - loss: 0.0019\n",
            "Epoch 46/50\n",
            "101/101 [==============================] - 1s 12ms/step - loss: 0.0017\n",
            "Epoch 47/50\n",
            "101/101 [==============================] - 1s 11ms/step - loss: 0.0021\n",
            "Epoch 48/50\n",
            "101/101 [==============================] - 1s 11ms/step - loss: 0.0018\n",
            "Epoch 49/50\n",
            "101/101 [==============================] - 1s 11ms/step - loss: 0.0019\n",
            "Epoch 50/50\n",
            "101/101 [==============================] - 1s 11ms/step - loss: 0.0018\n"
          ]
        },
        {
          "output_type": "execute_result",
          "data": {
            "text/plain": [
              "<keras.callbacks.History at 0x7f9e4d50b5b0>"
            ]
          },
          "metadata": {},
          "execution_count": 22
        }
      ]
    },
    {
      "cell_type": "code",
      "source": [
        "loss_per_epoch = model.history.history['loss']\n",
        "plt.plot(range(len(loss_per_epoch)), loss_per_epoch )"
      ],
      "metadata": {
        "colab": {
          "base_uri": "https://localhost:8080/",
          "height": 447
        },
        "id": "J0FP-yEx6Bt9",
        "outputId": "ac7114b2-5745-454c-da32-ac3c923f97ab"
      },
      "execution_count": 23,
      "outputs": [
        {
          "output_type": "execute_result",
          "data": {
            "text/plain": [
              "[<matplotlib.lines.Line2D at 0x7f9e4dc9e8f0>]"
            ]
          },
          "metadata": {},
          "execution_count": 23
        },
        {
          "output_type": "display_data",
          "data": {
            "text/plain": [
              "<Figure size 640x480 with 1 Axes>"
            ],
            "image/png": "[encoded data removed]"
          },
          "metadata": {}
        }
      ]
    },
    {
      "cell_type": "code",
      "source": [
        "last_train_batch = scaled_train[-24:]"
      ],
      "metadata": {
        "id": "DHeTPnju6BjT"
      },
      "execution_count": 24,
      "outputs": []
    },
    {
      "cell_type": "code",
      "source": [
        "last_train_batch = last_train_batch.reshape((1, n_input, n_features))"
      ],
      "metadata": {
        "id": "NdepkAF36BgE"
      },
      "execution_count": 25,
      "outputs": []
    },
    {
      "cell_type": "code",
      "source": [
        "model.predict(last_train_batch)"
      ],
      "metadata": {
        "colab": {
          "base_uri": "https://localhost:8080/"
        },
        "id": "oe7veUNA6Bac",
        "outputId": "9fcc30af-fd86-4076-87a1-3e73f56b2487"
      },
      "execution_count": 26,
      "outputs": [
        {
          "output_type": "stream",
          "name": "stdout",
          "text": [
            "1/1 [==============================] - 0s 217ms/step\n"
          ]
        },
        {
          "output_type": "execute_result",
          "data": {
            "text/plain": [
              "array([[0.98976594]], dtype=float32)"
            ]
          },
          "metadata": {},
          "execution_count": 26
        }
      ]
    },
    {
      "cell_type": "code",
      "source": [
        "scaled_test[0]"
      ],
      "metadata": {
        "colab": {
          "base_uri": "https://localhost:8080/"
        },
        "id": "ThaJ6yNV6BTa",
        "outputId": "56630718-0329-40ed-f89b-49b55d49b1dc"
      },
      "execution_count": 27,
      "outputs": [
        {
          "output_type": "execute_result",
          "data": {
            "text/plain": [
              "array([1.01096491])"
            ]
          },
          "metadata": {},
          "execution_count": 27
        }
      ]
    },
    {
      "cell_type": "code",
      "source": [
        "model.predict(last_train_batch)[0]"
      ],
      "metadata": {
        "colab": {
          "base_uri": "https://localhost:8080/"
        },
        "id": "L3wgyqARB1E-",
        "outputId": "4ac5843f-b800-4c05-845a-d64914449118"
      },
      "execution_count": 28,
      "outputs": [
        {
          "output_type": "stream",
          "name": "stdout",
          "text": [
            "1/1 [==============================] - 0s 23ms/step\n"
          ]
        },
        {
          "output_type": "execute_result",
          "data": {
            "text/plain": [
              "array([0.98976594], dtype=float32)"
            ]
          },
          "metadata": {},
          "execution_count": 28
        }
      ]
    },
    {
      "cell_type": "code",
      "source": [
        "test_predictions = []\n",
        "\n",
        "first_eval_batch = scaled_train[-n_input:]\n",
        "current_batch = first_eval_batch.reshape((1, n_input, n_features))\n",
        "\n",
        "for i in range(len(test)):\n",
        "  # get the predictions value for the first batch\n",
        "  current_prediction = model.predict(current_batch)[0]\n",
        "\n",
        "  # append the prediction into the array\n",
        "  test_predictions.append(current_prediction)\n",
        "\n",
        "  # use the prediction to update the batch and remove the first value\n",
        "  current_batch = np.append(current_batch[:,1:,:], [[current_prediction]], axis=1)\n"
      ],
      "metadata": {
        "colab": {
          "base_uri": "https://localhost:8080/"
        },
        "id": "K5jybWOt6BMI",
        "outputId": "287f3750-2bf2-499b-b108-11290d3b00da"
      },
      "execution_count": 29,
      "outputs": [
        {
          "output_type": "stream",
          "name": "stdout",
          "text": [
            "1/1 [==============================] - 0s 24ms/step\n",
            "1/1 [==============================] - 0s 23ms/step\n",
            "1/1 [==============================] - 0s 39ms/step\n",
            "1/1 [==============================] - 0s 32ms/step\n",
            "1/1 [==============================] - 0s 36ms/step\n",
            "1/1 [==============================] - 0s 43ms/step\n",
            "1/1 [==============================] - 0s 33ms/step\n",
            "1/1 [==============================] - 0s 33ms/step\n",
            "1/1 [==============================] - 0s 39ms/step\n",
            "1/1 [==============================] - 0s 34ms/step\n",
            "1/1 [==============================] - 0s 35ms/step\n",
            "1/1 [==============================] - 0s 33ms/step\n",
            "1/1 [==============================] - 0s 42ms/step\n",
            "1/1 [==============================] - 0s 37ms/step\n",
            "1/1 [==============================] - 0s 37ms/step\n",
            "1/1 [==============================] - 0s 35ms/step\n",
            "1/1 [==============================] - 0s 33ms/step\n",
            "1/1 [==============================] - 0s 33ms/step\n",
            "1/1 [==============================] - 0s 34ms/step\n",
            "1/1 [==============================] - 0s 33ms/step\n",
            "1/1 [==============================] - 0s 33ms/step\n",
            "1/1 [==============================] - 0s 39ms/step\n",
            "1/1 [==============================] - 0s 40ms/step\n",
            "1/1 [==============================] - 0s 36ms/step\n"
          ]
        }
      ]
    },
    {
      "cell_type": "code",
      "source": [
        "test_predictions"
      ],
      "metadata": {
        "colab": {
          "base_uri": "https://localhost:8080/"
        },
        "id": "Jznr3nkPv4DP",
        "outputId": "d7fe2cd0-3d42-448e-e916-cb20ca02d971"
      },
      "execution_count": 30,
      "outputs": [
        {
          "output_type": "execute_result",
          "data": {
            "text/plain": [
              "[array([0.98976594], dtype=float32),\n",
              " array([1.0240741], dtype=float32),\n",
              " array([1.048916], dtype=float32),\n",
              " array([1.0702558], dtype=float32),\n",
              " array([1.091158], dtype=float32),\n",
              " array([1.1129733], dtype=float32),\n",
              " array([1.1360155], dtype=float32),\n",
              " array([1.1600416], dtype=float32),\n",
              " array([1.18465], dtype=float32),\n",
              " array([1.2094929], dtype=float32),\n",
              " array([1.2343394], dtype=float32),\n",
              " array([1.2590604], dtype=float32),\n",
              " array([1.2836], dtype=float32),\n",
              " array([1.3079476], dtype=float32),\n",
              " array([1.3321137], dtype=float32),\n",
              " array([1.3561028], dtype=float32),\n",
              " array([1.3799264], dtype=float32),\n",
              " array([1.403589], dtype=float32),\n",
              " array([1.4271017], dtype=float32),\n",
              " array([1.4504681], dtype=float32),\n",
              " array([1.4737076], dtype=float32),\n",
              " array([1.4967916], dtype=float32),\n",
              " array([1.5196774], dtype=float32),\n",
              " array([1.542317], dtype=float32)]"
            ]
          },
          "metadata": {},
          "execution_count": 30
        }
      ]
    },
    {
      "cell_type": "code",
      "source": [
        "true_predictions = scaler.inverse_transform(test_predictions)"
      ],
      "metadata": {
        "id": "wWXuGKMEDFQ-"
      },
      "execution_count": 31,
      "outputs": []
    },
    {
      "cell_type": "code",
      "source": [
        "test['predictions'] = true_predictions"
      ],
      "metadata": {
        "colab": {
          "base_uri": "https://localhost:8080/"
        },
        "id": "je2lwau3DFOj",
        "outputId": "be2dc4d0-f88a-4fd0-ecc3-9fa4d33d07e7"
      },
      "execution_count": 32,
      "outputs": [
        {
          "output_type": "stream",
          "name": "stderr",
          "text": [
            "<ipython-input-32-fa6c3af7c69f>:1: SettingWithCopyWarning: \n",
            "A value is trying to be set on a copy of a slice from a DataFrame.\n",
            "Try using .loc[row_indexer,col_indexer] = value instead\n",
            "\n",
            "See the caveats in the documentation: https://pandas.pydata.org/pandas-docs/stable/user_guide/indexing.html#returning-a-view-versus-a-copy\n",
            "  test['predictions'] = true_predictions\n"
          ]
        }
      ]
    },
    {
      "cell_type": "code",
      "source": [
        "test"
      ],
      "metadata": {
        "colab": {
          "base_uri": "https://localhost:8080/",
          "height": 833
        },
        "id": "LEtPUAgADFJ0",
        "outputId": "cab79c52-b1ed-4da0-aab5-d1424921fae8"
      },
      "execution_count": 33,
      "outputs": [
        {
          "output_type": "execute_result",
          "data": {
            "text/plain": [
              "              Price  predictions\n",
              "Date                            \n",
              "2021-06-01  129.900   128.933327\n",
              "2021-07-01  137.539   130.497778\n",
              "2021-08-01  148.272   131.630569\n",
              "2021-09-01  148.476   132.603662\n",
              "2021-10-01  144.798   133.556806\n",
              "2021-11-01  148.293   134.551584\n",
              "2021-12-01  152.478   135.602308\n",
              "2022-01-01  155.572   136.697896\n",
              "2022-02-01  168.909   137.820037\n",
              "2022-03-01  173.673   138.952877\n",
              "2022-04-01  177.145   140.085875\n",
              "2022-05-01  177.145   141.213153\n",
              "2022-06-01  170.290   142.332159\n",
              "2022-07-01  170.290   143.442412\n",
              "2022-08-01  209.582   144.544387\n",
              "2022-09-01  203.832   145.638289\n",
              "2022-10-01  195.142   146.724646\n",
              "2022-11-01  195.142   147.803659\n",
              "2022-12-01  195.105   148.875839\n",
              "2023-01-01  195.105   149.941344\n",
              "2023-02-01  195.105   151.001065\n",
              "2023-03-01  195.105   152.053697\n",
              "2023-04-01  195.105   153.097289\n",
              "2023-05-01  195.105   154.129657"
            ],
            "text/html": [
              "\n",
              "  <div id=\"df-91243ad7-dc9b-415f-8391-56d7875d028d\">\n",
              "    <div class=\"colab-df-container\">\n",
              "      <div>\n",
              "<style scoped>\n",
              "    .dataframe tbody tr th:only-of-type {\n",
              "        vertical-align: middle;\n",
              "    }\n",
              "\n",
              "    .dataframe tbody tr th {\n",
              "        vertical-align: top;\n",
              "    }\n",
              "\n",
              "    .dataframe thead th {\n",
              "        text-align: right;\n",
              "    }\n",
              "</style>\n",
              "<table border=\"1\" class=\"dataframe\">\n",
              "  <thead>\n",
              "    <tr style=\"text-align: right;\">\n",
              "      <th></th>\n",
              "      <th>Price</th>\n",
              "      <th>predictions</th>\n",
              "    </tr>\n",
              "    <tr>\n",
              "      <th>Date</th>\n",
              "      <th></th>\n",
              "      <th></th>\n",
              "    </tr>\n",
              "  </thead>\n",
              "  <tbody>\n",
              "    <tr>\n",
              "      <th>2021-06-01</th>\n",
              "      <td>129.900</td>\n",
              "      <td>128.933327</td>\n",
              "    </tr>\n",
              "    <tr>\n",
              "      <th>2021-07-01</th>\n",
              "      <td>137.539</td>\n",
              "      <td>130.497778</td>\n",
              "    </tr>\n",
              "    <tr>\n",
              "      <th>2021-08-01</th>\n",
              "      <td>148.272</td>\n",
              "      <td>131.630569</td>\n",
              "    </tr>\n",
              "    <tr>\n",
              "      <th>2021-09-01</th>\n",
              "      <td>148.476</td>\n",
              "      <td>132.603662</td>\n",
              "    </tr>\n",
              "    <tr>\n",
              "      <th>2021-10-01</th>\n",
              "      <td>144.798</td>\n",
              "      <td>133.556806</td>\n",
              "    </tr>\n",
              "    <tr>\n",
              "      <th>2021-11-01</th>\n",
              "      <td>148.293</td>\n",
              "      <td>134.551584</td>\n",
              "    </tr>\n",
              "    <tr>\n",
              "      <th>2021-12-01</th>\n",
              "      <td>152.478</td>\n",
              "      <td>135.602308</td>\n",
              "    </tr>\n",
              "    <tr>\n",
              "      <th>2022-01-01</th>\n",
              "      <td>155.572</td>\n",
              "      <td>136.697896</td>\n",
              "    </tr>\n",
              "    <tr>\n",
              "      <th>2022-02-01</th>\n",
              "      <td>168.909</td>\n",
              "      <td>137.820037</td>\n",
              "    </tr>\n",
              "    <tr>\n",
              "      <th>2022-03-01</th>\n",
              "      <td>173.673</td>\n",
              "      <td>138.952877</td>\n",
              "    </tr>\n",
              "    <tr>\n",
              "      <th>2022-04-01</th>\n",
              "      <td>177.145</td>\n",
              "      <td>140.085875</td>\n",
              "    </tr>\n",
              "    <tr>\n",
              "      <th>2022-05-01</th>\n",
              "      <td>177.145</td>\n",
              "      <td>141.213153</td>\n",
              "    </tr>\n",
              "    <tr>\n",
              "      <th>2022-06-01</th>\n",
              "      <td>170.290</td>\n",
              "      <td>142.332159</td>\n",
              "    </tr>\n",
              "    <tr>\n",
              "      <th>2022-07-01</th>\n",
              "      <td>170.290</td>\n",
              "      <td>143.442412</td>\n",
              "    </tr>\n",
              "    <tr>\n",
              "      <th>2022-08-01</th>\n",
              "      <td>209.582</td>\n",
              "      <td>144.544387</td>\n",
              "    </tr>\n",
              "    <tr>\n",
              "      <th>2022-09-01</th>\n",
              "      <td>203.832</td>\n",
              "      <td>145.638289</td>\n",
              "    </tr>\n",
              "    <tr>\n",
              "      <th>2022-10-01</th>\n",
              "      <td>195.142</td>\n",
              "      <td>146.724646</td>\n",
              "    </tr>\n",
              "    <tr>\n",
              "      <th>2022-11-01</th>\n",
              "      <td>195.142</td>\n",
              "      <td>147.803659</td>\n",
              "    </tr>\n",
              "    <tr>\n",
              "      <th>2022-12-01</th>\n",
              "      <td>195.105</td>\n",
              "      <td>148.875839</td>\n",
              "    </tr>\n",
              "    <tr>\n",
              "      <th>2023-01-01</th>\n",
              "      <td>195.105</td>\n",
              "      <td>149.941344</td>\n",
              "    </tr>\n",
              "    <tr>\n",
              "      <th>2023-02-01</th>\n",
              "      <td>195.105</td>\n",
              "      <td>151.001065</td>\n",
              "    </tr>\n",
              "    <tr>\n",
              "      <th>2023-03-01</th>\n",
              "      <td>195.105</td>\n",
              "      <td>152.053697</td>\n",
              "    </tr>\n",
              "    <tr>\n",
              "      <th>2023-04-01</th>\n",
              "      <td>195.105</td>\n",
              "      <td>153.097289</td>\n",
              "    </tr>\n",
              "    <tr>\n",
              "      <th>2023-05-01</th>\n",
              "      <td>195.105</td>\n",
              "      <td>154.129657</td>\n",
              "    </tr>\n",
              "  </tbody>\n",
              "</table>\n",
              "</div>\n",
              "      <button class=\"colab-df-convert\" onclick=\"convertToInteractive('df-91243ad7-dc9b-415f-8391-56d7875d028d')\"\n",
              "              title=\"Convert this dataframe to an interactive table.\"\n",
              "              style=\"display:none;\">\n",
              "        \n",
              "  <svg xmlns=\"http://www.w3.org/2000/svg\" height=\"24px\"viewBox=\"0 0 24 24\"\n",
              "       width=\"24px\">\n",
              "    <path d=\"M0 0h24v24H0V0z\" fill=\"none\"/>\n",
              "    <path d=\"M18.56 5.44l.94 2.06.94-2.06 2.06-.94-2.06-.94-.94-2.06-.94 2.06-2.06.94zm-11 1L8.5 8.5l.94-2.06 2.06-.94-2.06-.94L8.5 2.5l-.94 2.06-2.06.94zm10 10l.94 2.06.94-2.06 2.06-.94-2.06-.94-.94-2.06-.94 2.06-2.06.94z\"/><path d=\"M17.41 7.96l-1.37-1.37c-.4-.4-.92-.59-1.43-.59-.52 0-1.04.2-1.43.59L10.3 9.45l-7.72 7.72c-.78.78-.78 2.05 0 2.83L4 21.41c.39.39.9.59 1.41.59.51 0 1.02-.2 1.41-.59l7.78-7.78 2.81-2.81c.8-.78.8-2.07 0-2.86zM5.41 20L4 18.59l7.72-7.72 1.47 1.35L5.41 20z\"/>\n",
              "  </svg>\n",
              "      </button>\n",
              "      \n",
              "  <style>\n",
              "    .colab-df-container {\n",
              "      display:flex;\n",
              "      flex-wrap:wrap;\n",
              "      gap: 12px;\n",
              "    }\n",
              "\n",
              "    .colab-df-convert {\n",
              "      background-color: #E8F0FE;\n",
              "      border: none;\n",
              "      border-radius: 50%;\n",
              "      cursor: pointer;\n",
              "      display: none;\n",
              "      fill: #1967D2;\n",
              "      height: 32px;\n",
              "      padding: 0 0 0 0;\n",
              "      width: 32px;\n",
              "    }\n",
              "\n",
              "    .colab-df-convert:hover {\n",
              "      background-color: #E2EBFA;\n",
              "      box-shadow: 0px 1px 2px rgba(60, 64, 67, 0.3), 0px 1px 3px 1px rgba(60, 64, 67, 0.15);\n",
              "      fill: #174EA6;\n",
              "    }\n",
              "\n",
              "    [theme=dark] .colab-df-convert {\n",
              "      background-color: #3B4455;\n",
              "      fill: #D2E3FC;\n",
              "    }\n",
              "\n",
              "    [theme=dark] .colab-df-convert:hover {\n",
              "      background-color: #434B5C;\n",
              "      box-shadow: 0px 1px 3px 1px rgba(0, 0, 0, 0.15);\n",
              "      filter: drop-shadow(0px 1px 2px rgba(0, 0, 0, 0.3));\n",
              "      fill: #FFFFFF;\n",
              "    }\n",
              "  </style>\n",
              "\n",
              "      <script>\n",
              "        const buttonEl =\n",
              "          document.querySelector('#df-91243ad7-dc9b-415f-8391-56d7875d028d button.colab-df-convert');\n",
              "        buttonEl.style.display =\n",
              "          google.colab.kernel.accessAllowed ? 'block' : 'none';\n",
              "\n",
              "        async function convertToInteractive(key) {\n",
              "          const element = document.querySelector('#df-91243ad7-dc9b-415f-8391-56d7875d028d');\n",
              "          const dataTable =\n",
              "            await google.colab.kernel.invokeFunction('convertToInteractive',\n",
              "                                                     [key], {});\n",
              "          if (!dataTable) return;\n",
              "\n",
              "          const docLinkHtml = 'Like what you see? Visit the ' +\n",
              "            '<a target=\"_blank\" href=https://colab.research.google.com/notebooks/data_table.ipynb>data table notebook</a>'\n",
              "            + ' to learn more about interactive tables.';\n",
              "          element.innerHTML = '';\n",
              "          dataTable['output_type'] = 'display_data';\n",
              "          await google.colab.output.renderOutput(dataTable, element);\n",
              "          const docLink = document.createElement('div');\n",
              "          docLink.innerHTML = docLinkHtml;\n",
              "          element.appendChild(docLink);\n",
              "        }\n",
              "      </script>\n",
              "    </div>\n",
              "  </div>\n",
              "  "
            ]
          },
          "metadata": {},
          "execution_count": 33
        }
      ]
    },
    {
      "cell_type": "code",
      "source": [
        "test.plot(figsize=(12,6))"
      ],
      "metadata": {
        "colab": {
          "base_uri": "https://localhost:8080/",
          "height": 575
        },
        "id": "mGrIzuV1DFGb",
        "outputId": "e55541b5-6d7a-4ee7-a3dc-12dcbd82c5ca"
      },
      "execution_count": 34,
      "outputs": [
        {
          "output_type": "execute_result",
          "data": {
            "text/plain": [
              "<Axes: xlabel='Date'>"
            ]
          },
          "metadata": {},
          "execution_count": 34
        },
        {
          "output_type": "display_data",
          "data": {
            "text/plain": [
              "<Figure size 1200x600 with 1 Axes>"
            ],
            "image/png": "[encoded data removed]"
          },
          "metadata": {}
        }
      ]
    },
    {
      "cell_type": "code",
      "source": [
        "from sklearn.metrics import mean_squared_error\n",
        "from math import sqrt\n",
        "\n",
        "rmse = sqrt(mean_squared_error(test['Price'], test['predictions']))\n",
        "print(rmse)"
      ],
      "metadata": {
        "colab": {
          "base_uri": "https://localhost:8080/"
        },
        "id": "z7rwX8EQE3S3",
        "outputId": "dc8dcee8-bd56-4614-a165-af16feb58ae1"
      },
      "execution_count": 35,
      "outputs": [
        {
          "output_type": "stream",
          "name": "stdout",
          "text": [
            "36.22565933835853\n"
          ]
        }
      ]
    },
    {
      "cell_type": "code",
      "source": [
        "# when n_input = 12, rmse = 113\n",
        "# when n_input = 48, rmse = 61"
      ],
      "metadata": {
        "id": "A_QIfdf8Kzic"
      },
      "execution_count": 36,
      "outputs": []
    },
    {
      "cell_type": "code",
      "source": [
        "# exluding last year data"
      ],
      "metadata": {
        "id": "cOiKsyk2OEGQ"
      },
      "execution_count": 37,
      "outputs": []
    },
    {
      "cell_type": "code",
      "source": [
        "new_data= data[:137]\n",
        "new_train = new_data[:125]\n",
        "new_test = new_data[125:]"
      ],
      "metadata": {
        "id": "29PcCjkRFJ2g"
      },
      "execution_count": 38,
      "outputs": []
    },
    {
      "cell_type": "code",
      "source": [
        "new_data.shape"
      ],
      "metadata": {
        "colab": {
          "base_uri": "https://localhost:8080/"
        },
        "id": "0OmqwVJhRwaY",
        "outputId": "c395de7f-4346-4dcd-cc30-8d57b9c972d4"
      },
      "execution_count": 39,
      "outputs": [
        {
          "output_type": "execute_result",
          "data": {
            "text/plain": [
              "(137, 1)"
            ]
          },
          "metadata": {},
          "execution_count": 39
        }
      ]
    },
    {
      "cell_type": "code",
      "source": [
        "scaler.fit(train)\n",
        "new_scaled_train = scaler.transform(new_train)\n",
        "new_scaled_test = scaler.transform(new_test)"
      ],
      "metadata": {
        "id": "988J8qjgPRGV"
      },
      "execution_count": 40,
      "outputs": []
    },
    {
      "cell_type": "code",
      "source": [
        "n_input = 12\n",
        "generator = TimeseriesGenerator(new_scaled_train, new_scaled_train, length=n_input, batch_size=1)"
      ],
      "metadata": {
        "id": "p_BQIhNjv35u"
      },
      "execution_count": 41,
      "outputs": []
    },
    {
      "cell_type": "code",
      "source": [
        "# define model\n",
        "model = Sequential()\n",
        "model.add(LSTM(100, activation='relu', input_shape=(n_input, n_features)))\n",
        "model.add(Dense(1))\n",
        "model.compile(optimizer='adam', loss = 'mse')"
      ],
      "metadata": {
        "id": "bHtK0IiCN9pq"
      },
      "execution_count": 42,
      "outputs": []
    },
    {
      "cell_type": "code",
      "source": [
        "model.summary()"
      ],
      "metadata": {
        "colab": {
          "base_uri": "https://localhost:8080/"
        },
        "id": "ysvmscd7N9ln",
        "outputId": "974cda8a-f44e-4178-8cc0-157ba6ce9483"
      },
      "execution_count": 43,
      "outputs": [
        {
          "output_type": "stream",
          "name": "stdout",
          "text": [
            "Model: \"sequential_1\"\n",
            "_________________________________________________________________\n",
            " Layer (type)                Output Shape              Param #   \n",
            "=================================================================\n",
            " lstm_1 (LSTM)               (None, 100)               40800     \n",
            "                                                                 \n",
            " dense_1 (Dense)             (None, 1)                 101       \n",
            "                                                                 \n",
            "=================================================================\n",
            "Total params: 40,901\n",
            "Trainable params: 40,901\n",
            "Non-trainable params: 0\n",
            "_________________________________________________________________\n"
          ]
        }
      ]
    },
    {
      "cell_type": "code",
      "source": [
        "model.fit(generator, epochs= 50)"
      ],
      "metadata": {
        "colab": {
          "base_uri": "https://localhost:8080/"
        },
        "id": "RsO-rgQCN9iQ",
        "outputId": "16269ea9-9bf1-4fd1-aa45-28a4c81ecedb"
      },
      "execution_count": 44,
      "outputs": [
        {
          "output_type": "stream",
          "name": "stdout",
          "text": [
            "Epoch 1/50\n",
            "113/113 [==============================] - 3s 7ms/step - loss: 0.0318\n",
            "Epoch 2/50\n",
            "113/113 [==============================] - 1s 8ms/step - loss: 0.0136\n",
            "Epoch 3/50\n",
            "113/113 [==============================] - 1s 8ms/step - loss: 0.0097\n",
            "Epoch 4/50\n",
            "113/113 [==============================] - 1s 7ms/step - loss: 0.0073\n",
            "Epoch 5/50\n",
            "113/113 [==============================] - 1s 7ms/step - loss: 0.0077\n",
            "Epoch 6/50\n",
            "113/113 [==============================] - 1s 7ms/step - loss: 0.0062\n",
            "Epoch 7/50\n",
            "113/113 [==============================] - 1s 7ms/step - loss: 0.0043\n",
            "Epoch 8/50\n",
            "113/113 [==============================] - 1s 7ms/step - loss: 0.0037\n",
            "Epoch 9/50\n",
            "113/113 [==============================] - 1s 9ms/step - loss: 0.0042\n",
            "Epoch 10/50\n",
            "113/113 [==============================] - 1s 11ms/step - loss: 0.0037\n",
            "Epoch 11/50\n",
            "113/113 [==============================] - 1s 7ms/step - loss: 0.0031\n",
            "Epoch 12/50\n",
            "113/113 [==============================] - 1s 7ms/step - loss: 0.0034\n",
            "Epoch 13/50\n",
            "113/113 [==============================] - 1s 7ms/step - loss: 0.0037\n",
            "Epoch 14/50\n",
            "113/113 [==============================] - 1s 8ms/step - loss: 0.0031\n",
            "Epoch 15/50\n",
            "113/113 [==============================] - 1s 7ms/step - loss: 0.0029\n",
            "Epoch 16/50\n",
            "113/113 [==============================] - 1s 7ms/step - loss: 0.0033\n",
            "Epoch 17/50\n",
            "113/113 [==============================] - 1s 7ms/step - loss: 0.0028\n",
            "Epoch 18/50\n",
            "113/113 [==============================] - 1s 8ms/step - loss: 0.0025\n",
            "Epoch 19/50\n",
            "113/113 [==============================] - 1s 7ms/step - loss: 0.0025\n",
            "Epoch 20/50\n",
            "113/113 [==============================] - 2s 16ms/step - loss: 0.0023\n",
            "Epoch 21/50\n",
            "113/113 [==============================] - 1s 11ms/step - loss: 0.0031\n",
            "Epoch 22/50\n",
            "113/113 [==============================] - 1s 7ms/step - loss: 0.0026\n",
            "Epoch 23/50\n",
            "113/113 [==============================] - 1s 7ms/step - loss: 0.0025\n",
            "Epoch 24/50\n",
            "113/113 [==============================] - 1s 8ms/step - loss: 0.0030\n",
            "Epoch 25/50\n",
            "113/113 [==============================] - 1s 7ms/step - loss: 0.0025\n",
            "Epoch 26/50\n",
            "113/113 [==============================] - 1s 8ms/step - loss: 0.0021\n",
            "Epoch 27/50\n",
            "113/113 [==============================] - 1s 7ms/step - loss: 0.0023\n",
            "Epoch 28/50\n",
            "113/113 [==============================] - 1s 7ms/step - loss: 0.0022\n",
            "Epoch 29/50\n",
            "113/113 [==============================] - 1s 7ms/step - loss: 0.0020\n",
            "Epoch 30/50\n",
            "113/113 [==============================] - 1s 9ms/step - loss: 0.0019\n",
            "Epoch 31/50\n",
            "113/113 [==============================] - 1s 10ms/step - loss: 0.0021\n",
            "Epoch 32/50\n",
            "113/113 [==============================] - 1s 11ms/step - loss: 0.0022\n",
            "Epoch 33/50\n",
            "113/113 [==============================] - 1s 8ms/step - loss: 0.0023\n",
            "Epoch 34/50\n",
            "113/113 [==============================] - 1s 8ms/step - loss: 0.0020\n",
            "Epoch 35/50\n",
            "113/113 [==============================] - 1s 7ms/step - loss: 0.0020\n",
            "Epoch 36/50\n",
            "113/113 [==============================] - 1s 8ms/step - loss: 0.0021\n",
            "Epoch 37/50\n",
            "113/113 [==============================] - 1s 7ms/step - loss: 0.0020\n",
            "Epoch 38/50\n",
            "113/113 [==============================] - 1s 7ms/step - loss: 0.0019\n",
            "Epoch 39/50\n",
            "113/113 [==============================] - 1s 7ms/step - loss: 0.0021\n",
            "Epoch 40/50\n",
            "113/113 [==============================] - 1s 8ms/step - loss: 0.0019\n",
            "Epoch 41/50\n",
            "113/113 [==============================] - 1s 10ms/step - loss: 0.0017\n",
            "Epoch 42/50\n",
            "113/113 [==============================] - 1s 10ms/step - loss: 0.0019\n",
            "Epoch 43/50\n",
            "113/113 [==============================] - 1s 11ms/step - loss: 0.0019\n",
            "Epoch 44/50\n",
            "113/113 [==============================] - 1s 7ms/step - loss: 0.0019\n",
            "Epoch 45/50\n",
            "113/113 [==============================] - 1s 7ms/step - loss: 0.0019\n",
            "Epoch 46/50\n",
            "113/113 [==============================] - 1s 7ms/step - loss: 0.0021\n",
            "Epoch 47/50\n",
            "113/113 [==============================] - 1s 7ms/step - loss: 0.0018\n",
            "Epoch 48/50\n",
            "113/113 [==============================] - 1s 8ms/step - loss: 0.0019\n",
            "Epoch 49/50\n",
            "113/113 [==============================] - 1s 8ms/step - loss: 0.0016\n",
            "Epoch 50/50\n",
            "113/113 [==============================] - 1s 7ms/step - loss: 0.0031\n"
          ]
        },
        {
          "output_type": "execute_result",
          "data": {
            "text/plain": [
              "<keras.callbacks.History at 0x7f9e4daa5690>"
            ]
          },
          "metadata": {},
          "execution_count": 44
        }
      ]
    },
    {
      "cell_type": "code",
      "source": [
        "loss_per_epoch = model.history.history['loss']\n",
        "plt.plot(range(len(loss_per_epoch)), loss_per_epoch )"
      ],
      "metadata": {
        "colab": {
          "base_uri": "https://localhost:8080/",
          "height": 447
        },
        "id": "tnQmcJEFN9fO",
        "outputId": "9cc8ecb5-58ab-451a-8c8a-5031d5497727"
      },
      "execution_count": 45,
      "outputs": [
        {
          "output_type": "execute_result",
          "data": {
            "text/plain": [
              "[<matplotlib.lines.Line2D at 0x7f9e45dcd540>]"
            ]
          },
          "metadata": {},
          "execution_count": 45
        },
        {
          "output_type": "display_data",
          "data": {
            "text/plain": [
              "<Figure size 640x480 with 1 Axes>"
            ],
            "image/png": "[encoded data removed]"
          },
          "metadata": {}
        }
      ]
    },
    {
      "cell_type": "code",
      "source": [
        "new_test_predictions = []\n",
        "\n",
        "first_eval_batch = new_scaled_train[-n_input:]\n",
        "current_batch = first_eval_batch.reshape((1, n_input, n_features))\n",
        "\n",
        "for i in range(len(new_test)):\n",
        "  # get the predictions value for the first batch\n",
        "  current_prediction = model.predict(current_batch)[0]\n",
        "\n",
        "  # append the prediction into the array\n",
        "  new_test_predictions.append(current_prediction)\n",
        "\n",
        "  # use the prediction to update the batch and remove the first value\n",
        "  current_batch = np.append(current_batch[:,1:,:], [[current_prediction]], axis=1)\n"
      ],
      "metadata": {
        "colab": {
          "base_uri": "https://localhost:8080/"
        },
        "id": "kQ3kLI-EN9cJ",
        "outputId": "beab3c10-44fc-4093-e72d-9af2d6f96d7c"
      },
      "execution_count": 46,
      "outputs": [
        {
          "output_type": "stream",
          "name": "stdout",
          "text": [
            "1/1 [==============================] - 0s 170ms/step\n",
            "1/1 [==============================] - 0s 30ms/step\n",
            "1/1 [==============================] - 0s 23ms/step\n",
            "1/1 [==============================] - 0s 21ms/step\n",
            "1/1 [==============================] - 0s 21ms/step\n",
            "1/1 [==============================] - 0s 24ms/step\n",
            "1/1 [==============================] - 0s 29ms/step\n",
            "1/1 [==============================] - 0s 22ms/step\n",
            "1/1 [==============================] - 0s 26ms/step\n",
            "1/1 [==============================] - 0s 36ms/step\n",
            "1/1 [==============================] - 0s 41ms/step\n",
            "1/1 [==============================] - 0s 32ms/step\n"
          ]
        }
      ]
    },
    {
      "cell_type": "code",
      "source": [
        "new_test_predictions"
      ],
      "metadata": {
        "colab": {
          "base_uri": "https://localhost:8080/"
        },
        "id": "jl5kwn-TN9V4",
        "outputId": "aee422f6-4ce7-49ca-9b7f-a18a6044d69e"
      },
      "execution_count": 47,
      "outputs": [
        {
          "output_type": "execute_result",
          "data": {
            "text/plain": [
              "[array([0.9968544], dtype=float32),\n",
              " array([1.0408995], dtype=float32),\n",
              " array([1.0833772], dtype=float32),\n",
              " array([1.1258992], dtype=float32),\n",
              " array([1.1709634], dtype=float32),\n",
              " array([1.2204467], dtype=float32),\n",
              " array([1.2746905], dtype=float32),\n",
              " array([1.334636], dtype=float32),\n",
              " array([1.4018481], dtype=float32),\n",
              " array([1.4772401], dtype=float32),\n",
              " array([1.5629102], dtype=float32),\n",
              " array([1.659684], dtype=float32)]"
            ]
          },
          "metadata": {},
          "execution_count": 47
        }
      ]
    },
    {
      "cell_type": "code",
      "source": [
        "new_true_predictions = scaler.inverse_transform(new_test_predictions)"
      ],
      "metadata": {
        "id": "9RzhiJlkN9SI"
      },
      "execution_count": 48,
      "outputs": []
    },
    {
      "cell_type": "code",
      "source": [
        "new_true_predictions"
      ],
      "metadata": {
        "colab": {
          "base_uri": "https://localhost:8080/"
        },
        "id": "ZoXgNhspN9Pf",
        "outputId": "d7973a7f-55bd-4622-e983-d6d6f4943072"
      },
      "execution_count": 49,
      "outputs": [
        {
          "output_type": "execute_result",
          "data": {
            "text/plain": [
              "array([[129.25656176],\n",
              "       [131.26501789],\n",
              "       [133.20200224],\n",
              "       [135.14100332],\n",
              "       [137.19593134],\n",
              "       [139.45236979],\n",
              "       [141.9258872 ],\n",
              "       [144.65940037],\n",
              "       [147.72427235],\n",
              "       [151.1621479 ],\n",
              "       [155.06870508],\n",
              "       [159.48158779]])"
            ]
          },
          "metadata": {},
          "execution_count": 49
        }
      ]
    },
    {
      "cell_type": "code",
      "source": [
        "new_test['predictions'] = new_true_predictions"
      ],
      "metadata": {
        "colab": {
          "base_uri": "https://localhost:8080/"
        },
        "id": "Fg7hKkh8N9IN",
        "outputId": "acd6042c-b371-41ad-d533-630f3a4f444e"
      },
      "execution_count": 50,
      "outputs": [
        {
          "output_type": "stream",
          "name": "stderr",
          "text": [
            "<ipython-input-50-9e18777bd72e>:1: SettingWithCopyWarning: \n",
            "A value is trying to be set on a copy of a slice from a DataFrame.\n",
            "Try using .loc[row_indexer,col_indexer] = value instead\n",
            "\n",
            "See the caveats in the documentation: https://pandas.pydata.org/pandas-docs/stable/user_guide/indexing.html#returning-a-view-versus-a-copy\n",
            "  new_test['predictions'] = new_true_predictions\n"
          ]
        }
      ]
    },
    {
      "cell_type": "code",
      "source": [
        "new_test"
      ],
      "metadata": {
        "colab": {
          "base_uri": "https://localhost:8080/",
          "height": 457
        },
        "id": "DtNAJYBpN9CB",
        "outputId": "41d024a5-69e2-4a04-e5eb-880eba9647ac"
      },
      "execution_count": 51,
      "outputs": [
        {
          "output_type": "execute_result",
          "data": {
            "text/plain": [
              "              Price  predictions\n",
              "Date                            \n",
              "2021-06-01  129.900   129.256562\n",
              "2021-07-01  137.539   131.265018\n",
              "2021-08-01  148.272   133.202002\n",
              "2021-09-01  148.476   135.141003\n",
              "2021-10-01  144.798   137.195931\n",
              "2021-11-01  148.293   139.452370\n",
              "2021-12-01  152.478   141.925887\n",
              "2022-01-01  155.572   144.659400\n",
              "2022-02-01  168.909   147.724272\n",
              "2022-03-01  173.673   151.162148\n",
              "2022-04-01  177.145   155.068705\n",
              "2022-05-01  177.145   159.481588"
            ],
            "text/html": [
              "\n",
              "  <div id=\"df-ff3c81f0-f2df-49da-8277-d8cee3bd6721\">\n",
              "    <div class=\"colab-df-container\">\n",
              "      <div>\n",
              "<style scoped>\n",
              "    .dataframe tbody tr th:only-of-type {\n",
              "        vertical-align: middle;\n",
              "    }\n",
              "\n",
              "    .dataframe tbody tr th {\n",
              "        vertical-align: top;\n",
              "    }\n",
              "\n",
              "    .dataframe thead th {\n",
              "        text-align: right;\n",
              "    }\n",
              "</style>\n",
              "<table border=\"1\" class=\"dataframe\">\n",
              "  <thead>\n",
              "    <tr style=\"text-align: right;\">\n",
              "      <th></th>\n",
              "      <th>Price</th>\n",
              "      <th>predictions</th>\n",
              "    </tr>\n",
              "    <tr>\n",
              "      <th>Date</th>\n",
              "      <th></th>\n",
              "      <th></th>\n",
              "    </tr>\n",
              "  </thead>\n",
              "  <tbody>\n",
              "    <tr>\n",
              "      <th>2021-06-01</th>\n",
              "      <td>129.900</td>\n",
              "      <td>129.256562</td>\n",
              "    </tr>\n",
              "    <tr>\n",
              "      <th>2021-07-01</th>\n",
              "      <td>137.539</td>\n",
              "      <td>131.265018</td>\n",
              "    </tr>\n",
              "    <tr>\n",
              "      <th>2021-08-01</th>\n",
              "      <td>148.272</td>\n",
              "      <td>133.202002</td>\n",
              "    </tr>\n",
              "    <tr>\n",
              "      <th>2021-09-01</th>\n",
              "      <td>148.476</td>\n",
              "      <td>135.141003</td>\n",
              "    </tr>\n",
              "    <tr>\n",
              "      <th>2021-10-01</th>\n",
              "      <td>144.798</td>\n",
              "      <td>137.195931</td>\n",
              "    </tr>\n",
              "    <tr>\n",
              "      <th>2021-11-01</th>\n",
              "      <td>148.293</td>\n",
              "      <td>139.452370</td>\n",
              "    </tr>\n",
              "    <tr>\n",
              "      <th>2021-12-01</th>\n",
              "      <td>152.478</td>\n",
              "      <td>141.925887</td>\n",
              "    </tr>\n",
              "    <tr>\n",
              "      <th>2022-01-01</th>\n",
              "      <td>155.572</td>\n",
              "      <td>144.659400</td>\n",
              "    </tr>\n",
              "    <tr>\n",
              "      <th>2022-02-01</th>\n",
              "      <td>168.909</td>\n",
              "      <td>147.724272</td>\n",
              "    </tr>\n",
              "    <tr>\n",
              "      <th>2022-03-01</th>\n",
              "      <td>173.673</td>\n",
              "      <td>151.162148</td>\n",
              "    </tr>\n",
              "    <tr>\n",
              "      <th>2022-04-01</th>\n",
              "      <td>177.145</td>\n",
              "      <td>155.068705</td>\n",
              "    </tr>\n",
              "    <tr>\n",
              "      <th>2022-05-01</th>\n",
              "      <td>177.145</td>\n",
              "      <td>159.481588</td>\n",
              "    </tr>\n",
              "  </tbody>\n",
              "</table>\n",
              "</div>\n",
              "      <button class=\"colab-df-convert\" onclick=\"convertToInteractive('df-ff3c81f0-f2df-49da-8277-d8cee3bd6721')\"\n",
              "              title=\"Convert this dataframe to an interactive table.\"\n",
              "              style=\"display:none;\">\n",
              "        \n",
              "  <svg xmlns=\"http://www.w3.org/2000/svg\" height=\"24px\"viewBox=\"0 0 24 24\"\n",
              "       width=\"24px\">\n",
              "    <path d=\"M0 0h24v24H0V0z\" fill=\"none\"/>\n",
              "    <path d=\"M18.56 5.44l.94 2.06.94-2.06 2.06-.94-2.06-.94-.94-2.06-.94 2.06-2.06.94zm-11 1L8.5 8.5l.94-2.06 2.06-.94-2.06-.94L8.5 2.5l-.94 2.06-2.06.94zm10 10l.94 2.06.94-2.06 2.06-.94-2.06-.94-.94-2.06-.94 2.06-2.06.94z\"/><path d=\"M17.41 7.96l-1.37-1.37c-.4-.4-.92-.59-1.43-.59-.52 0-1.04.2-1.43.59L10.3 9.45l-7.72 7.72c-.78.78-.78 2.05 0 2.83L4 21.41c.39.39.9.59 1.41.59.51 0 1.02-.2 1.41-.59l7.78-7.78 2.81-2.81c.8-.78.8-2.07 0-2.86zM5.41 20L4 18.59l7.72-7.72 1.47 1.35L5.41 20z\"/>\n",
              "  </svg>\n",
              "      </button>\n",
              "      \n",
              "  <style>\n",
              "    .colab-df-container {\n",
              "      display:flex;\n",
              "      flex-wrap:wrap;\n",
              "      gap: 12px;\n",
              "    }\n",
              "\n",
              "    .colab-df-convert {\n",
              "      background-color: #E8F0FE;\n",
              "      border: none;\n",
              "      border-radius: 50%;\n",
              "      cursor: pointer;\n",
              "      display: none;\n",
              "      fill: #1967D2;\n",
              "      height: 32px;\n",
              "      padding: 0 0 0 0;\n",
              "      width: 32px;\n",
              "    }\n",
              "\n",
              "    .colab-df-convert:hover {\n",
              "      background-color: #E2EBFA;\n",
              "      box-shadow: 0px 1px 2px rgba(60, 64, 67, 0.3), 0px 1px 3px 1px rgba(60, 64, 67, 0.15);\n",
              "      fill: #174EA6;\n",
              "    }\n",
              "\n",
              "    [theme=dark] .colab-df-convert {\n",
              "      background-color: #3B4455;\n",
              "      fill: #D2E3FC;\n",
              "    }\n",
              "\n",
              "    [theme=dark] .colab-df-convert:hover {\n",
              "      background-color: #434B5C;\n",
              "      box-shadow: 0px 1px 3px 1px rgba(0, 0, 0, 0.15);\n",
              "      filter: drop-shadow(0px 1px 2px rgba(0, 0, 0, 0.3));\n",
              "      fill: #FFFFFF;\n",
              "    }\n",
              "  </style>\n",
              "\n",
              "      <script>\n",
              "        const buttonEl =\n",
              "          document.querySelector('#df-ff3c81f0-f2df-49da-8277-d8cee3bd6721 button.colab-df-convert');\n",
              "        buttonEl.style.display =\n",
              "          google.colab.kernel.accessAllowed ? 'block' : 'none';\n",
              "\n",
              "        async function convertToInteractive(key) {\n",
              "          const element = document.querySelector('#df-ff3c81f0-f2df-49da-8277-d8cee3bd6721');\n",
              "          const dataTable =\n",
              "            await google.colab.kernel.invokeFunction('convertToInteractive',\n",
              "                                                     [key], {});\n",
              "          if (!dataTable) return;\n",
              "\n",
              "          const docLinkHtml = 'Like what you see? Visit the ' +\n",
              "            '<a target=\"_blank\" href=https://colab.research.google.com/notebooks/data_table.ipynb>data table notebook</a>'\n",
              "            + ' to learn more about interactive tables.';\n",
              "          element.innerHTML = '';\n",
              "          dataTable['output_type'] = 'display_data';\n",
              "          await google.colab.output.renderOutput(dataTable, element);\n",
              "          const docLink = document.createElement('div');\n",
              "          docLink.innerHTML = docLinkHtml;\n",
              "          element.appendChild(docLink);\n",
              "        }\n",
              "      </script>\n",
              "    </div>\n",
              "  </div>\n",
              "  "
            ]
          },
          "metadata": {},
          "execution_count": 51
        }
      ]
    },
    {
      "cell_type": "code",
      "source": [
        "new_test.plot(figsize=(10,5))"
      ],
      "metadata": {
        "colab": {
          "base_uri": "https://localhost:8080/",
          "height": 498
        },
        "id": "V8S07QwrTar6",
        "outputId": "ec3eae18-21c5-466b-d021-9e70840ca189"
      },
      "execution_count": 52,
      "outputs": [
        {
          "output_type": "execute_result",
          "data": {
            "text/plain": [
              "<Axes: xlabel='Date'>"
            ]
          },
          "metadata": {},
          "execution_count": 52
        },
        {
          "output_type": "display_data",
          "data": {
            "text/plain": [
              "<Figure size 1000x500 with 1 Axes>"
            ],
            "image/png": "[encoded data removed]"
          },
          "metadata": {}
        }
      ]
    },
    {
      "cell_type": "code",
      "source": [
        "from sklearn.metrics import mean_squared_error\n",
        "from math import sqrt\n",
        "\n",
        "rmse = sqrt(mean_squared_error(new_test['Price'], new_test['predictions']))\n",
        "print(rmse)"
      ],
      "metadata": {
        "colab": {
          "base_uri": "https://localhost:8080/"
        },
        "id": "BN9uhSyNRruG",
        "outputId": "8567f97a-b2a3-44db-ffe6-fbf5386c9d55"
      },
      "execution_count": 53,
      "outputs": [
        {
          "output_type": "stream",
          "name": "stdout",
          "text": [
            "14.622967137705189\n"
          ]
        }
      ]
    },
    {
      "cell_type": "code",
      "source": [],
      "metadata": {
        "id": "lCx3SIBERrqw"
      },
      "execution_count": 53,
      "outputs": []
    }
  ]
}